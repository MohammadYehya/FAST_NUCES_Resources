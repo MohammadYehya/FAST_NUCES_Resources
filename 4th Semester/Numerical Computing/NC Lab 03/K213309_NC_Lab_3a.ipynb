{
  "nbformat": 4,
  "nbformat_minor": 0,
  "metadata": {
    "colab": {
      "provenance": []
    },
    "kernelspec": {
      "name": "python3",
      "display_name": "Python 3"
    },
    "language_info": {
      "name": "python"
    }
  },
  "cells": [
    {
      "cell_type": "markdown",
      "source": [
        "## **Objectives of Session3a_Derivatives_and_Integration:**\n",
        "\n",
        "1-To understand how to take derivatives and integrals by using library functions of python.<br>\n",
        "2-To implement Numerical Differenciation methods to find values of f'(x) for a given table of x and f(x).<br>\n",
        "3-To implement Numerical Integration methods to find values of definite integrals and their error bound by a specific method. "
      ],
      "metadata": {
        "id": "DJ_n7DUfNe1_"
      }
    },
    {
      "cell_type": "markdown",
      "source": [
        "## **How to take derivative in python:**"
      ],
      "metadata": {
        "id": "Udo660Kli4GV"
      }
    },
    {
      "cell_type": "code",
      "execution_count": null,
      "metadata": {
        "id": "9Cf90Q7ihY6r",
        "colab": {
          "base_uri": "https://localhost:8080/"
        },
        "outputId": "eed085a6-96c5-41cf-dad3-b4994435915a"
      },
      "outputs": [
        {
          "output_type": "stream",
          "name": "stdout",
          "text": [
            "4*x\n",
            "4.0\n"
          ]
        }
      ],
      "source": [
        "from sympy import* #Call Library of sympy\n",
        "x = symbols('x')   #Make x a symbol  \n",
        "f = 2*x**2+5       #Function to take derivative\n",
        "\n",
        "df = diff(f, x,1)    #diff(f,x,1) is used to take first derivative of f w.r.t x\n",
        "#df = diff(f, x,n)    #diff(f,x,n) is used to take nth derivative of f w.r.t x\n",
        "print(df)\n",
        "print(float(df.subs(x,1))) #df.subs(x,1) is used to substitute value of x=1 in above taken derivative"
      ]
    },
    {
      "cell_type": "code",
      "source": [
        "# another procedure for finding  derivative\n",
        "y=sin(x)-x\n",
        "derivative_y=y.diff(x) #differentiate y w.r.t x\n",
        "print(derivative_y)"
      ],
      "metadata": {
        "id": "R-gXmc_hNzRQ",
        "colab": {
          "base_uri": "https://localhost:8080/"
        },
        "outputId": "56d2e9e5-7e9f-4434-923f-9b5ee74946e6"
      },
      "execution_count": null,
      "outputs": [
        {
          "output_type": "stream",
          "name": "stdout",
          "text": [
            "cos(x) - 1\n"
          ]
        }
      ]
    },
    {
      "cell_type": "markdown",
      "source": [
        "**How to convert a sympy symbolic expression into numpy function to evaluate it on a point or array**."
      ],
      "metadata": {
        "id": "oxasjMMgjzFs"
      }
    },
    {
      "cell_type": "code",
      "source": [
        "f1=lambdify(x,f) #Now f1 is numpy function\n",
        "print(f1(1)) #f1 at 1, you can also evaluate f1 at an array.\n",
        "df1=lambdify(x,df)\n",
        "print(df1(1)) "
      ],
      "metadata": {
        "id": "zdcizRVAjv1m",
        "colab": {
          "base_uri": "https://localhost:8080/"
        },
        "outputId": "2ffa6375-7031-4c76-ca65-0848fd6a7360"
      },
      "execution_count": null,
      "outputs": [
        {
          "output_type": "stream",
          "name": "stdout",
          "text": [
            "7\n",
            "4\n"
          ]
        }
      ]
    },
    {
      "cell_type": "markdown",
      "source": [
        "**Task1**\n",
        "```\n",
        "a)Use above two procedures to find the second derivative of f(x)=x**2 exp(-x).\n",
        "b)Convert symbolic expression in part (a) into numpy function.\n",
        "c)Evaluate the numpy function (obtained in part b)at a single value and at an array.\n",
        "\n",
        "\n",
        "\n",
        "```\n",
        "\n",
        "\n"
      ],
      "metadata": {
        "id": "QmakryHVOsXW"
      }
    },
    {
      "cell_type": "code",
      "source": [
        "import numpy as np\n",
        "\n",
        "#Task1 A\n",
        "f=x**2*exp(-x)\n",
        "df =  diff(f, x, 2)\n",
        "print(df)\n",
        "df = f.diff(x,2)\n",
        "print(df)\n",
        "\n",
        "#Task1 B\n",
        "f1=lambdify(x,f)\n",
        "\n",
        "#Task1 C\n",
        "z = np.array([-2,-1,0,1,2])\n",
        "print(f1(-1))\n",
        "print(f1(z))"
      ],
      "metadata": {
        "colab": {
          "base_uri": "https://localhost:8080/"
        },
        "id": "bmred2BGPsVu",
        "outputId": "90a5e8be-945b-4c45-81b8-0664079a8370"
      },
      "execution_count": null,
      "outputs": [
        {
          "output_type": "stream",
          "name": "stdout",
          "text": [
            "(x**2 - 4*x + 2)*exp(-x)\n",
            "(x**2 - 4*x + 2)*exp(-x)\n",
            "2.718281828459045\n",
            "[29.5562244   2.71828183  0.          0.36787944  0.54134113]\n"
          ]
        }
      ]
    },
    {
      "cell_type": "markdown",
      "source": [
        "## **Coding of some Numerical differentiation formulae**"
      ],
      "metadata": {
        "id": "nla6-ZUPv497"
      }
    },
    {
      "cell_type": "markdown",
      "source": [
        "### **Code of forward difference formula**\n",
        "\n",
        "### Forward Differnce \n",
        "• $f'(x_0) =\\dfrac{f(x_0+h)-f(x_0)}{h}$\n",
        "\n",
        "### Backward Differnce \n",
        "• $f'(x_0) =\\dfrac{f(x_0)-f(x_0-h)}{h}$\n",
        "\n"
      ],
      "metadata": {
        "id": "fUgK1xJhvtGq"
      }
    },
    {
      "cell_type": "code",
      "source": [
        "# code of forward difference formula.\n",
        "\n",
        "import numpy as np\n",
        "from tabulate import tabulate\n",
        "\n",
        "\n",
        "def forward_diff(x, y):\n",
        "  \n",
        "    # Compute the step size h\n",
        "    h = x[1] - x[0]\n",
        "    data=[]\n",
        "    \n",
        "    # Compute the forward difference approximation\n",
        "    fdf = np.zeros_like(y)\n",
        "    fdf[-1] = (y[-1] - y[-2]) / h  # use backward difference at the end point\n",
        "    for i in range(len(y) - 1):\n",
        "        fdf[i] = (y[i+1] - y[i]) / h\n",
        "        data.append([x[i],y[i],fdf[i]])\n",
        "    data.append([x[-1],y[-1],fdf[-1]])\n",
        "    \n",
        "    print(tabulate(data,headers=['x','f(x)','df(x)/dx'],tablefmt=\"github\"))\n",
        "    \n",
        "    return"
      ],
      "metadata": {
        "id": "0hrO5vGDPdH2"
      },
      "execution_count": null,
      "outputs": []
    },
    {
      "cell_type": "code",
      "source": [
        "# example to run above code\n",
        "x=[0.2,0.4,0.6,0.8]\n",
        "y=[3,3.9,3.98,4.2]\n",
        "forward_diff(x, y)"
      ],
      "metadata": {
        "id": "ZsIe3CBW4dND",
        "colab": {
          "base_uri": "https://localhost:8080/"
        },
        "outputId": "fb374e25-d7e8-444d-d723-c8141858812c"
      },
      "execution_count": null,
      "outputs": [
        {
          "output_type": "stream",
          "name": "stdout",
          "text": [
            "|   x |   f(x) |   df(x)/dx |\n",
            "|-----|--------|------------|\n",
            "| 0.2 |   3    |        4.5 |\n",
            "| 0.4 |   3.9  |        0.4 |\n",
            "| 0.6 |   3.98 |        1.1 |\n",
            "| 0.8 |   4.2  |        1.1 |\n"
          ]
        }
      ]
    },
    {
      "cell_type": "markdown",
      "source": [
        "**Task 2: Write a code for Backward difference approximation (apply forward difference approximation on first point)**"
      ],
      "metadata": {
        "id": "awmdLwQwhjwq"
      }
    },
    {
      "cell_type": "code",
      "source": [
        "#Task 2\n",
        "def backward_diff(x, y):\n",
        "    h = x[1] - x[0]\n",
        "    data=[]\n",
        "    bdf = np.zeros_like(y)\n",
        "    bdf[0] = (y[1] - y[0]) / h\n",
        "    data.append([x[0],y[0],bdf[0]])\n",
        "    for i in range(1,len(y)):\n",
        "        bdf[i] = (y[i] - y[i-1]) / h\n",
        "        data.append([x[i],y[i],bdf[i]])\n",
        "    print(tabulate(data,headers=['x','f(x)','df(x)/dx'],tablefmt=\"github\"))\n",
        "    return\n",
        "backward_diff(x, y)"
      ],
      "metadata": {
        "colab": {
          "base_uri": "https://localhost:8080/"
        },
        "id": "MV9GNJthWc9J",
        "outputId": "1435925d-8900-4335-b80b-55bb564350f9"
      },
      "execution_count": null,
      "outputs": [
        {
          "output_type": "stream",
          "name": "stdout",
          "text": [
            "|   x |   f(x) |   df(x)/dx |\n",
            "|-----|--------|------------|\n",
            "| 0.2 |   3    |        4.5 |\n",
            "| 0.4 |   3.9  |        4.5 |\n",
            "| 0.6 |   3.98 |        0.4 |\n",
            "| 0.8 |   4.2  |        1.1 |\n"
          ]
        }
      ]
    },
    {
      "cell_type": "markdown",
      "source": [
        "### **Code of three point endpoint and three point midpoint formula**\n",
        "### Three-Point Endpoint Formula\n",
        "• $f'(x_0) =\\dfrac{−3f(x_0) + 4f(x_0 + h) - f (x_0 + 2h)}{2h}$\n",
        "### Three-Point Midpoint Formula\n",
        "• $f'(x_0) =\\dfrac{f(x_0+h)-f(x_0-h)}{2h}$"
      ],
      "metadata": {
        "id": "yYBxb8ZC2r_I"
      }
    },
    {
      "cell_type": "code",
      "source": [
        "# code for three point endpoint and three point midpoint formulae for finding f'(x) for an array of x and f(x).\n",
        "import numpy as np\n",
        "\n",
        "def three_point(x, y):\n",
        "  \n",
        "    # Compute the step size h\n",
        "    data=[]\n",
        "    h = x[1] - x[0]\n",
        "    \n",
        "    # Compute the forward difference approximation\n",
        "    tp = np.zeros_like(y)\n",
        "    tp[0]=(-3*y[0]+4*y[1]-y[2])/(2*h) #three point endpoint (left end) formula\n",
        "    tp[-1]=(3*y[-1]-4*y[-2]+y[-3])/(2*h) #three point endpoint (right end) formula\n",
        "\n",
        "    data.append([x[0],y[0],tp[0]])\n",
        "    for i in range(1,len(y)-1):\n",
        "        tp[i] = (y[i+1] - y[i-1]) / (2*h)\n",
        "        data.append([x[i],y[i],tp[i]])\n",
        "    data.append([x[-1],y[-1],tp[-1]])\n",
        "\n",
        "    print(tabulate(data,headers=['x','f(x)','df(x)/dx'],tablefmt=\"github\"))\n",
        "    \n",
        "    \n",
        "    return"
      ],
      "metadata": {
        "id": "zJf2FB865b8C"
      },
      "execution_count": null,
      "outputs": []
    },
    {
      "cell_type": "code",
      "source": [
        "# example to run above code\n",
        "x=[0.2,0.4,0.6,0.8]\n",
        "y=[3,3.9,3.98,4.2]\n",
        "three_point(x, y)\n"
      ],
      "metadata": {
        "id": "ZUjr9Q1d7n9j",
        "colab": {
          "base_uri": "https://localhost:8080/"
        },
        "outputId": "1ae9d05f-9859-4727-8ded-e8d8bd165505"
      },
      "execution_count": null,
      "outputs": [
        {
          "output_type": "stream",
          "name": "stdout",
          "text": [
            "|   x |   f(x) |   df(x)/dx |\n",
            "|-----|--------|------------|\n",
            "| 0.2 |   3    |       6.55 |\n",
            "| 0.4 |   3.9  |       2.45 |\n",
            "| 0.6 |   3.98 |       0.75 |\n",
            "| 0.8 |   4.2  |       1.45 |\n"
          ]
        }
      ]
    },
    {
      "cell_type": "markdown",
      "source": [
        "**Task 3: \n",
        "Make a code for five point endpoint and midpoint formulae where possible in given table.**:\n"
      ],
      "metadata": {
        "id": "TTIACjqA9Imu"
      }
    },
    {
      "cell_type": "code",
      "source": [
        "#Task 3\n",
        "import numpy as np\n",
        "\n",
        "def five_point(x, y):\n",
        "    data=[]\n",
        "    h = x[1] - x[0]\n",
        "    fp = np.zeros_like(y)\n",
        "    fp[0]=(-25*y[0]+48*y[1]-36*y[2]+16*y[3]-3*y[4])/(12*h)\n",
        "    fp[-1]=(-25*y[-1]+48*y[-2]-36*y[-3]+16*y[-4]-3*y[-5])/(-12*h)\n",
        "\n",
        "    data.append([x[0],y[0],fp[0]])\n",
        "    for i in range(1,len(y)-1):\n",
        "      if(i < len(y)-2 and i > 1):\n",
        "        fp[i] = (y[i-2]-8*y[i-1]+8*y[i+1]-y[i+2])/(12*h)\n",
        "        data.append([x[i],y[i],fp[i]])\n",
        "      else:\n",
        "        data.append([x[i],y[i],'Invalid'])\n",
        "    data.append([x[-1],y[-1],fp[-1]])\n",
        "    print(tabulate(data,headers=['x','f(x)','df(x)/dx'],tablefmt=\"github\"))\n",
        "    return\n",
        "\n",
        "x=[1,1.01,1.02,1.03,1.04]\n",
        "y=[3.1,3.12,3.14,3.18,3.24]\n",
        "five_point(x, y)"
      ],
      "metadata": {
        "colab": {
          "base_uri": "https://localhost:8080/"
        },
        "id": "VrbV8cJYa1X-",
        "outputId": "6ede4824-e114-45f4-bc96-9bfbac505cf6"
      },
      "execution_count": null,
      "outputs": [
        {
          "output_type": "stream",
          "name": "stdout",
          "text": [
            "|    x |   f(x) | df(x)/dx           |\n",
            "|------|--------|--------------------|\n",
            "| 1    |   3.1  | 3.166666666666552  |\n",
            "| 1.01 |   3.12 | Invalid            |\n",
            "| 1.02 |   3.14 | 2.8333333333333446 |\n",
            "| 1.03 |   3.18 | Invalid            |\n",
            "| 1.04 |   3.24 | 6.499999999999915  |\n"
          ]
        }
      ]
    },
    {
      "cell_type": "markdown",
      "source": [
        "## **How to take integral in python**"
      ],
      "metadata": {
        "id": "JYP-eo1zrqyp"
      }
    },
    {
      "cell_type": "code",
      "source": [
        "x = symbols('x')   #Make x a symbol  \n",
        "f = 2*x/(x**2-4)      #Function to take integrate\n",
        "\n",
        "I_actual = float(integrate(f, (x,1,1.6)))    #integrate(f,(x,l,u)) is used to take integral of f from l to u\n",
        "print(I_actual)"
      ],
      "metadata": {
        "id": "BJi5q9oxrz-C",
        "colab": {
          "base_uri": "https://localhost:8080/"
        },
        "outputId": "de72d404-e4fd-4262-d35c-73d3d2d18a4a"
      },
      "execution_count": null,
      "outputs": [
        {
          "output_type": "stream",
          "name": "stdout",
          "text": [
            "-0.7339691750802008\n"
          ]
        }
      ]
    },
    {
      "cell_type": "markdown",
      "source": [
        "##**Numerical Integration by using Composite Trapezoidal rule**\n",
        "### Trapezoid Rule\n",
        "$$\\int_a^b f(x) dx \\approx \\frac{h}{2}[f(a)+ \\sum_{i=1}^{n-1} {f(x_i)}+f(b)]$$\n"
      ],
      "metadata": {
        "id": "2589Pkzws41z"
      }
    },
    {
      "cell_type": "code",
      "source": [
        "   def comp_trapezoidal_rule(f, a, b, n=1):  #n=1 indicates simple trpezoidal rule\n",
        "     h = (b - a) / n\n",
        "     x = [a + i*h for i in range(n+1)]\n",
        "     y = [f(xi) for xi in x]\n",
        "     s = sum(y[1:-1])\n",
        "     ans=h/2 * (y[0] + 2*s + y[-1])\n",
        "     return ans"
      ],
      "metadata": {
        "id": "rGd7hwUVwe_5"
      },
      "execution_count": null,
      "outputs": []
    },
    {
      "cell_type": "code",
      "source": [
        "\n",
        "#Example for simple and composite Trapezoidal\n",
        "def f(x):\n",
        "  return(2*x/(x**2-4))\n",
        "strap=comp_trapezoidal_rule(f,1,1.6)\n",
        "print(strap) # gives ans of simple trapezoidal rule\n",
        "ctrap=comp_trapezoidal_rule(f,1,1.6,4)\n",
        "print(ctrap) # gives ans of composite trapezoidal rule with n=4"
      ],
      "metadata": {
        "id": "hfmb7T-vw_3d",
        "colab": {
          "base_uri": "https://localhost:8080/"
        },
        "outputId": "513d2b7c-c5ce-4468-b3f4-f153b20f47a9"
      },
      "execution_count": null,
      "outputs": [
        {
          "output_type": "stream",
          "name": "stdout",
          "text": [
            "-0.866666666666667\n",
            "-0.7435983879717899\n"
          ]
        }
      ]
    },
    {
      "cell_type": "markdown",
      "source": [
        "**Computing Actual Error for simple and composite trapezoidal rules**\n",
        "\n",
        "\n"
      ],
      "metadata": {
        "id": "4NxU7C5XzpzL"
      }
    },
    {
      "cell_type": "code",
      "source": [
        "print(I_actual-strap)\n",
        "print(I_actual-ctrap)"
      ],
      "metadata": {
        "id": "zyB5RzwG0Hmd",
        "colab": {
          "base_uri": "https://localhost:8080/"
        },
        "outputId": "68edbe37-6c60-43c1-c153-dfc95561b9dc"
      },
      "execution_count": null,
      "outputs": [
        {
          "output_type": "stream",
          "name": "stdout",
          "text": [
            "0.13269749158646627\n",
            "0.009629212891589134\n"
          ]
        }
      ]
    },
    {
      "cell_type": "markdown",
      "source": [
        "###**For calculating SimpleTrapezoidal error bound**\n",
        "\n",
        "Working for Question no 3e Exercise 4.3\n",
        "\n"
      ],
      "metadata": {
        "id": "KPKtpCyyjRNY"
      }
    },
    {
      "cell_type": "code",
      "source": [
        "from sympy import* #Call Library of sympy\n",
        "x = symbols('x')\n",
        "f=2*x/(x**2-4)\n",
        "\n",
        "def Error_bound_trap(f,l,u):#l is the lower limit and u is the upper limit of integral\n",
        "   ddf = diff(f, x,2)    #Evaluating second derivative of f\n",
        "   abs_max_ddf=max(abs(ddf.subs(x,l)),abs(ddf.subs(x,u)))\n",
        "   h=u-l\n",
        "   Error_bound=h**3*abs_max_ddf/12\n",
        "   return (Error_bound,abs_max_ddf)"
      ],
      "metadata": {
        "id": "wAimSO_XjYa2"
      },
      "execution_count": null,
      "outputs": []
    },
    {
      "cell_type": "code",
      "source": [
        "Error_bound_trap(f,1,1.6)"
      ],
      "metadata": {
        "id": "cBsX-Hd2k_nK",
        "colab": {
          "base_uri": "https://localhost:8080/"
        },
        "outputId": "c839eb0a-7ffa-4cb9-d0b0-3fe204e4610f"
      },
      "execution_count": null,
      "outputs": [
        {
          "output_type": "execute_result",
          "data": {
            "text/plain": [
              "(0.561728395061729, 31.2071330589849)"
            ]
          },
          "metadata": {},
          "execution_count": 94
        }
      ]
    },
    {
      "cell_type": "markdown",
      "source": [
        "**Task 4: Make a code of composite simpson's 1/3rd rule (set n=2 for simple simpson and raise exception when user enters n=odd value) and run on f(x) mentioned in exercise # 4.3, Question #5c and excercise # 4.4, Question 3e**\n",
        "\n",
        "> Indented block\n",
        "\n"
      ],
      "metadata": {
        "id": "mrdwAZMKoUp8"
      }
    },
    {
      "cell_type": "code",
      "source": [
        "#Task 4\n",
        "def comp_simpson_rule(f, a, b, n=2):\n",
        "  if(n % 2 != 0):\n",
        "    raise Exception('n cannot be odd!')\n",
        "  else:\n",
        "    h = (b - a) / n\n",
        "    x = [a + i*h for i in range(n+1)]\n",
        "    y = [f(j) for j in x]\n",
        "    sum1 = sum(y[1:-1:2])\n",
        "    sum2 = sum(y[2:-1:2])\n",
        "    return h/3 * (y[0] + y[-1] + 4 * sum1 + 2 * sum2)\n",
        "\n",
        "def f(x): return x**2 * ln(x)\n",
        "print(comp_simpson_rule(f,1,1.5))\n",
        "\n",
        "def f(x): return exp(2*x)*sin(3*x)\n",
        "print(comp_simpson_rule(f,0,2,8))"
      ],
      "metadata": {
        "colab": {
          "base_uri": "https://localhost:8080/"
        },
        "id": "jmYgTRECijpD",
        "outputId": "dd05c1d4-4492-45ab-e02d-96582bae1fcd"
      },
      "execution_count": null,
      "outputs": [
        {
          "output_type": "stream",
          "name": "stdout",
          "text": [
            "0.192245307413098\n",
            "-14.1833415614467\n"
          ]
        }
      ]
    },
    {
      "cell_type": "markdown",
      "source": [
        "**For calculating simple Simpson's 1/3rd rule error bound**"
      ],
      "metadata": {
        "id": "swshrTqlqB-J"
      }
    },
    {
      "cell_type": "code",
      "source": [
        "from sympy import* #Call Library of sympy\n",
        "x = symbols('x')   #Make x a symbol  \n",
        "f = x**4       #Define your function here in 'x'\n",
        "def Error_bound_simp(f,l,u):#l is the lower limit and u is the upper limit of integral\n",
        "   d4f = diff(f, x,4)    #Evaluating second derivative of f\n",
        "   abs_max_ddf=max(abs(d4f.subs(x,l)),abs(d4f.subs(x,u)))\n",
        "   h=(u-l)/2\n",
        "   Error_bound=h**5*abs_max_ddf/90\n",
        "   return(Error_bound,abs_max_ddf)"
      ],
      "metadata": {
        "id": "348kqnklnEAj"
      },
      "execution_count": null,
      "outputs": []
    },
    {
      "cell_type": "markdown",
      "source": [
        "**Task 5: Find Error bound for Exercise 4.3 Qno 7 part(a) and (b)**"
      ],
      "metadata": {
        "id": "EQsQbBetMvlK"
      }
    },
    {
      "cell_type": "code",
      "source": [
        "#Task 5\n",
        "f = x**4\n",
        "print(Error_bound_simp(f,0.5,1))\n",
        "\n",
        "f = 2/(x-4)\n",
        "print(Error_bound_simp(f,0,0.5))"
      ],
      "metadata": {
        "colab": {
          "base_uri": "https://localhost:8080/"
        },
        "id": "PhQK5-eXmfF2",
        "outputId": "1a18b4e7-60f3-4485-e600-c10197f8e57b"
      },
      "execution_count": null,
      "outputs": [
        {
          "output_type": "stream",
          "name": "stdout",
          "text": [
            "(0.000260416666666667, 24)\n",
            "(9.91650304436643e-7, 0.0913904920568811)\n"
          ]
        }
      ]
    }
  ]
}