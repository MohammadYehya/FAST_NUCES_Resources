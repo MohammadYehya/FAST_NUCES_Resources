{
  "nbformat": 4,
  "nbformat_minor": 0,
  "metadata": {
    "colab": {
      "provenance": []
    },
    "kernelspec": {
      "name": "python3",
      "display_name": "Python 3"
    },
    "language_info": {
      "name": "python"
    }
  },
  "cells": [
    {
      "cell_type": "markdown",
      "source": [
        "## Euler's Method"
      ],
      "metadata": {
        "id": "IHSRvj_NjO21"
      }
    },
    {
      "cell_type": "markdown",
      "source": [
        "### Algorithm"
      ],
      "metadata": {
        "id": "zD4QD5vhjV3d"
      }
    },
    {
      "cell_type": "markdown",
      "source": [
        "```\n",
        "Function will take following input:(f,t_initial,t_final,y_initial,h)\n",
        "f(t,y) from y'= f(t,y)\n",
        "t_initial(starting point of domain)\n",
        "t_final(ending point of domain)\n",
        "y_initial(initial condition)\n",
        "h(step size)\n",
        "\n",
        "\n",
        "1 Initialize the initial value of y and the initial time t.\n",
        "\n",
        "2 Set the number of steps n = (t_final - t_initial) / h.\n",
        "\n",
        "3 Loop from i = 1 to i = n:\n",
        "  a. Calculate the slope of the function at the current time and value of y     using the given differential equation.\n",
        "  b. Calculate the new value of y using the formula: y(i) = y(i-1) + h * slope(i-1).\n",
        "  c. Update the value of time t(i) = t(i-1) + h.\n",
        "\n",
        "4 Return the values of time and y at each step.\n",
        "```\n",
        "\n",
        "\n"
      ],
      "metadata": {
        "id": "boUVyVW8kRq4"
      }
    },
    {
      "cell_type": "code",
      "source": [
        "def euler_method(f, t_initial, t_final, y_initial, h, WRITE = 1):\n",
        "    \"\"\"\n",
        "    Solves the ordinary differential equation y' = f(t, y) using Euler's method with step size h.\n",
        "    Returns arrays of time and y values at each step.\n",
        "    \"\"\"\n",
        "    num_steps = int((t_final - t_initial) / h)\n",
        "    t_values = [t_initial]\n",
        "    y_values = [y_initial]\n",
        "    if(WRITE == 1): \n",
        "      print('\\n-------SOLUTION-------')\n",
        "      print('----------------------')    \n",
        "      print('#\\ttn\\tyn')\n",
        "      print('----------------------')\n",
        "    for i in range(num_steps):\n",
        "        slope = f(t_values[i], y_values[i])\n",
        "        y_new = y_values[i] + h * slope\n",
        "        t_new = t_values[i] + h\n",
        "        y_values.append(y_new)\n",
        "        t_values.append(t_new)\n",
        "        if(WRITE == 1):\n",
        "          print('%d\\t%.2f\\t%.4f'% (i+1,t_new,y_new) )\n",
        "          print('----------------------')\n",
        "    return t_values,y_values\n"
      ],
      "metadata": {
        "id": "mUAzfK77jlPx"
      },
      "execution_count": null,
      "outputs": []
    },
    {
      "cell_type": "code",
      "source": [
        "import numpy as np\n",
        "def f(t,y):\n",
        "  return np.exp(t-y)\n",
        "\n",
        "t_E,y_E=euler_method(f, 0, 1, 1,0.1)"
      ],
      "metadata": {
        "colab": {
          "base_uri": "https://localhost:8080/"
        },
        "id": "MXCKd-72uvTA",
        "outputId": "918da33e-fb16-4e3f-e4b0-9b7e93dee950"
      },
      "execution_count": null,
      "outputs": [
        {
          "output_type": "stream",
          "name": "stdout",
          "text": [
            "\n",
            "-------SOLUTION-------\n",
            "----------------------\n",
            "#\ttn\tyn\n",
            "----------------------\n",
            "1\t0.10\t1.0368\n",
            "----------------------\n",
            "2\t0.20\t1.0760\n",
            "----------------------\n",
            "3\t0.30\t1.1176\n",
            "----------------------\n",
            "4\t0.40\t1.1618\n",
            "----------------------\n",
            "5\t0.50\t1.2085\n",
            "----------------------\n",
            "6\t0.60\t1.2577\n",
            "----------------------\n",
            "7\t0.70\t1.3095\n",
            "----------------------\n",
            "8\t0.80\t1.3639\n",
            "----------------------\n",
            "9\t0.90\t1.4208\n",
            "----------------------\n",
            "10\t1.00\t1.4802\n",
            "----------------------\n"
          ]
        }
      ]
    },
    {
      "cell_type": "markdown",
      "source": [
        "## RK-4 Method"
      ],
      "metadata": {
        "id": "uM64aIVw2-W5"
      }
    },
    {
      "cell_type": "markdown",
      "source": [
        "### Algorithm"
      ],
      "metadata": {
        "id": "o1haTc3S3EsQ"
      }
    },
    {
      "cell_type": "markdown",
      "source": [
        "To solve:$\\dfrac{dy}{dx}=f(x,y)$\n",
        "\n",
        "$x_{i+1} = x_i + h,\\\\y_{i+1} = y_i + \\frac{1}{6}(k_1+2k_2+2k_3+k_4)h\\\\ k_1 = \\ f(x_i, y_i),\\\\ k_2 =  f(x_i + 0.5h, y_i + 0.5 k_1),\\\\ k_3 =  f(x_i + 0.5h, y_i + 0.5 k_2).\\\\ k_4 = f(x_i + h, y_i + k_3),\n",
        " \\\\ $"
      ],
      "metadata": {
        "id": "LEJr8j6633lV"
      }
    },
    {
      "cell_type": "markdown",
      "source": [
        "```\n",
        "Function will take following input:(f,t_initial,t_final,y_initial,h)\n",
        "f(t,y) from y'= f(t,y)\n",
        "t_initial(starting point of domain)\n",
        "t_final(ending point of domain)\n",
        "y_initial(initial condition)\n",
        "h(step size)\n",
        "\n",
        "\n",
        "1 Initialize the initial value of y and the initial time t.\n",
        "\n",
        "2 Set the number of steps n = (t_final - t_initial) / h.\n",
        "\n",
        "3 Loop from i = 1 to i = n:\n",
        "  a)Calculate\n",
        "      k1 =  f(x0, y0)\n",
        "      k2 =  f(x0+h/2, y0+k1/2)\n",
        "      k3 =  f(x0+h/2, y0+k2/2)\n",
        "      k4 =  f(x0+h, y0+k3)\n",
        "\n",
        "  b) Calculate the new value of y using the formula: y(i) = y(i-1) + (k1+2*k2+2*k3+k4)*h/6\n",
        "  c) Update the value of time t(i) = t(i-1) + h.\n",
        "\n",
        "4 Return the values of time and y at each step.\n",
        "```"
      ],
      "metadata": {
        "id": "GVYq0RDc3Q0V"
      }
    },
    {
      "cell_type": "code",
      "source": [
        "def RK4_method(f, t_initial, t_final, y_initial, h, WRITE = 1):\n",
        "    \"\"\"\n",
        "    Solves the ordinary differential equation y' = f(t, y) using Euler's method with step size h.\n",
        "    Returns arrays of time and y values at each step.\n",
        "    \"\"\"\n",
        "    num_steps = int((t_final - t_initial) / h)\n",
        "    t_values = [t_initial]\n",
        "    y_values = [y_initial]\n",
        "    if(WRITE == 1):\n",
        "      print('\\n-------SOLUTION-------')\n",
        "      print('----------------------')    \n",
        "      print('#\\ttn\\tyn')\n",
        "      print('----------------------')\n",
        "    for i in range(num_steps):\n",
        "        k1 = f(t_values[i], y_values[i])\n",
        "        k2 = f(t_values[i]+0.5*h, y_values[i]+0.5*k1)\n",
        "        k3 = f(t_values[i]+h/2, y_values[i]+k2/2)\n",
        "        k4 = f(t_values[i]+h, y_values[i]+k3)\n",
        "        y_new = y_values[i] + (h/6) * (k1+2*k2+2*k3+k4)\n",
        "        t_new = t_values[i] + h\n",
        "        y_values.append(y_new)\n",
        "        t_values.append(t_new)\n",
        "        if(WRITE == 1):\n",
        "          print('%d\\t%.2f\\t%.4f'% (i+1,t_new,y_new) )\n",
        "          print('----------------------')\n",
        "    return t_values,y_values\n"
      ],
      "metadata": {
        "id": "Qb3jE4DO3ChT"
      },
      "execution_count": null,
      "outputs": []
    },
    {
      "cell_type": "code",
      "source": [
        "import numpy as np\n",
        "def f(t,y):\n",
        "  return np.exp(t-y)\n",
        "\n",
        "t_R,y_R=RK4_method(f, t_initial=0, t_final=1, y_initial=1,h= 0.1)"
      ],
      "metadata": {
        "colab": {
          "base_uri": "https://localhost:8080/"
        },
        "id": "d6NG5mos8UPg",
        "outputId": "6c338024-9d1d-41fa-a1fd-c0ad11b0df05"
      },
      "execution_count": null,
      "outputs": [
        {
          "output_type": "stream",
          "name": "stdout",
          "text": [
            "\n",
            "-------SOLUTION-------\n",
            "----------------------\n",
            "#\ttn\tyn\n",
            "----------------------\n",
            "1\t0.10\t1.0327\n",
            "----------------------\n",
            "2\t0.20\t1.0673\n",
            "----------------------\n",
            "3\t0.30\t1.1039\n",
            "----------------------\n",
            "4\t0.40\t1.1425\n",
            "----------------------\n",
            "5\t0.50\t1.1831\n",
            "----------------------\n",
            "6\t0.60\t1.2257\n",
            "----------------------\n",
            "7\t0.70\t1.2703\n",
            "----------------------\n",
            "8\t0.80\t1.3170\n",
            "----------------------\n",
            "9\t0.90\t1.3657\n",
            "----------------------\n",
            "10\t1.00\t1.4164\n",
            "----------------------\n"
          ]
        }
      ]
    },
    {
      "cell_type": "markdown",
      "source": [
        "## Library Function to solve ODE(IVP)"
      ],
      "metadata": {
        "id": "ZOmhi-2g8yip"
      }
    },
    {
      "cell_type": "code",
      "source": [
        "import numpy as np\n",
        "from scipy.integrate import solve_ivp\n",
        "def f(t,y):\n",
        "  return np.exp(t-y)\n",
        "sol = solve_ivp(f, [0, 1], [1], t_eval=np.array(np.linspace(0.1,1,10)))\n",
        "t_l=sol.t\n",
        "y_l=sol.y.flatten()\n",
        "print('\\n----Library_SOLUTION-------')\n",
        "print('----------------------')    \n",
        "print('#\\ttn\\tyn')\n",
        "print('----------------------')\n",
        "\n",
        "for i in range(len(t_l)):\n",
        "   print('%d\\t%.2f\\t%.4f'% (i+1,t_l[i],y_l[i]) )\n",
        "   print('----------------------')\n",
        "   "
      ],
      "metadata": {
        "colab": {
          "base_uri": "https://localhost:8080/"
        },
        "id": "_kivz99p85-7",
        "outputId": "7f34b4dc-aa38-45c8-f76b-62a647fa6995"
      },
      "execution_count": null,
      "outputs": [
        {
          "output_type": "stream",
          "name": "stdout",
          "text": [
            "\n",
            "----Library_SOLUTION-------\n",
            "----------------------\n",
            "#\ttn\tyn\n",
            "----------------------\n",
            "1\t0.10\t1.0380\n",
            "----------------------\n",
            "2\t0.20\t1.0783\n",
            "----------------------\n",
            "3\t0.30\t1.1211\n",
            "----------------------\n",
            "4\t0.40\t1.1663\n",
            "----------------------\n",
            "5\t0.50\t1.2140\n",
            "----------------------\n",
            "6\t0.60\t1.2642\n",
            "----------------------\n",
            "7\t0.70\t1.3169\n",
            "----------------------\n",
            "8\t0.80\t1.3721\n",
            "----------------------\n",
            "9\t0.90\t1.4298\n",
            "----------------------\n",
            "10\t1.00\t1.4899\n",
            "----------------------\n"
          ]
        }
      ]
    },
    {
      "cell_type": "code",
      "source": [
        "import numpy as np\n",
        "from scipy.integrate import solve_ivp\n",
        "def f(t,y):\n",
        "  return np.exp(t-y)\n",
        "sol = solve_ivp(f, [0, 1], [1], t_eval=np.array(np.linspace(0.1,1,10)))\n",
        "print(sol.y.flatten())\n",
        "print(sol.t)\n",
        "y_l=sol.y.flatten()\n",
        "t_l=sol.t"
      ],
      "metadata": {
        "colab": {
          "base_uri": "https://localhost:8080/"
        },
        "id": "LceRWwe9QyLj",
        "outputId": "c698452a-5fce-4ad7-e77d-6732385f10f1"
      },
      "execution_count": null,
      "outputs": [
        {
          "output_type": "stream",
          "name": "stdout",
          "text": [
            "[1.03796051 1.07830121 1.12106759 1.16629685 1.21401355 1.26422954\n",
            " 1.3169439  1.37214301 1.42980049 1.48987724]\n",
            "[0.1 0.2 0.3 0.4 0.5 0.6 0.7 0.8 0.9 1. ]\n"
          ]
        }
      ]
    },
    {
      "cell_type": "markdown",
      "source": [
        "## Plotting "
      ],
      "metadata": {
        "id": "wXwjPVBQANRy"
      }
    },
    {
      "cell_type": "code",
      "source": [
        "import matplotlib.pyplot as plt\n",
        "import numpy as np\n",
        "plt.figure(figsize=(7,5))\n",
        "\n",
        "\n",
        "plt.plot(t_l, y_l, label=\"Numerical solution:\\nLibrary_function_sol\", dashes=(3,2), color=\"red\",lw=3)\n",
        "plt.plot(t_R, y_R, label=\"Numerical solution:\\nRunge-Kutta\", dashes=(3,2), color=\"blue\",lw=3)\n",
        "plt.plot(t_E, y_E, label=\"Numerical solution:\\nEuler\", dashes=(3,2), color=\"green\",lw=3)\n",
        "\n",
        "plt.legend(loc=\"best\", fontsize=12)\n",
        "plt.title(r\"Solution to ODE: $\\quad\\frac{dy}{dx}=e^t -y$\")\n",
        "plt.xlabel(\"t\", fontsize=12)\n",
        "plt.ylabel(\"y\", fontsize=12)\n",
        "plt.show()\n"
      ],
      "metadata": {
        "colab": {
          "base_uri": "https://localhost:8080/",
          "height": 501
        },
        "id": "e0kcM6fo_NdB",
        "outputId": "a3f392d4-e772-442e-81ea-5c3c09b68dda"
      },
      "execution_count": null,
      "outputs": [
        {
          "output_type": "display_data",
          "data": {
            "text/plain": [
              "<Figure size 700x500 with 1 Axes>"
            ],
            "image/png": "[encoded data removed]"
          },
          "metadata": {}
        }
      ]
    },
    {
      "cell_type": "markdown",
      "source": [
        "##Lab Task\n",
        "```\n",
        "1- Write the program for Heun's Method.\n",
        "2- Write the code to make a table to compare error of Heun's, Euler's, RK4 by using analytical solution.\n",
        "3- Repeat task 2 for three different DEs.\n",
        "\n"
      ],
      "metadata": {
        "id": "aNuAz9RtFrWM"
      }
    },
    {
      "cell_type": "code",
      "source": [
        "#________________________________Task1___________________________________\n",
        "#Heun's Method\n",
        "import numpy as np\n",
        "\n",
        "def f(t,y):\n",
        "  return np.exp(t-y)\n",
        "\n",
        "def Heuns_method(f, t_initial, t_final, y_initial, h, WRITE = 1):\n",
        "    num_steps = int((t_final - t_initial) / h)\n",
        "    t_values = [t_initial]\n",
        "    y_values = [y_initial]\n",
        "    if(WRITE == 1): \n",
        "      print('\\n-------SOLUTION-------')\n",
        "      print('----------------------')    \n",
        "      print('#\\ttn\\tyn')\n",
        "      print('----------------------')\n",
        "    for i in range(num_steps):\n",
        "        k1 = f(t_values[i], y_values[i])\n",
        "        k2 = f(t_values[i]+h, y_values[i]+h*k1)\n",
        "        y_new = y_values[i] + (h/2) * (k1+k2)\n",
        "        t_new = t_values[i] + h\n",
        "        y_values.append(y_new)\n",
        "        t_values.append(t_new)\n",
        "        if(WRITE == 1):\n",
        "          print('%d\\t%.2f\\t%.4f'% (i+1,t_new,y_new) )\n",
        "          print('----------------------')\n",
        "    return t_values,y_values"
      ],
      "metadata": {
        "id": "rIXRCcw0ikaE"
      },
      "execution_count": null,
      "outputs": []
    },
    {
      "cell_type": "code",
      "source": [
        "#________________________________Task2___________________________________\n",
        "def CompareMethods(f, t_initial, t_final, y_initial, h):\n",
        "  Eulerx, Eulery = euler_method(f, t_initial, t_final, y_initial, h, 0)\n",
        "  Heunsx, Heunsy = Heuns_method(f, t_initial, t_final, y_initial, h, 0)\n",
        "  RK4x  , RK4y   = RK4_method(f, t_initial, t_final, y_initial, h, 0)\n",
        "  sol = solve_ivp(f, [t_initial, t_final], [y_initial], t_eval=np.array(np.linspace(h,1,int((t_final - t_initial) / h))))\n",
        "  t_l=sol.t\n",
        "  y_l=sol.y.flatten()\n",
        "  print('\\t\\tError Table')\n",
        "  print('----------------------------------------------')  \n",
        "  print('  #\\t  t\\t Heun\\'s\\t  Euler\\t    RK4')\n",
        "  print('----------------------------------------------')  \n",
        "  for i in range(int((t_final - t_initial) / h)):\n",
        "    print('  %d\\t%.2f\\t%.4f\\t %.4f  %.4f'% (i+1, t_l[i], abs(Heunsy[i+1]-y_l[i]), abs(Eulery[i+1]-y_l[i]), abs(RK4y[i+1]-y_l[i])))\n",
        "    print('----------------------------------------------')\n",
        "  print('\\n\\n')\n"
      ],
      "metadata": {
        "id": "O6PUd1wLlG_i"
      },
      "execution_count": null,
      "outputs": []
    },
    {
      "cell_type": "code",
      "source": [
        "#________________________________Task3___________________________________\n",
        "def f(t,y):\n",
        "  return np.cos(2*t) + np.sin(3*t)\n",
        "CompareMethods(f, t_initial=0, t_final=1, y_initial=1,h= 0.1)\n",
        "\n",
        "def f(t,y):\n",
        "  return t*np.exp(3*t) - 2*y\n",
        "CompareMethods(f, t_initial=0, t_final=1, y_initial=0,h= 0.1)"
      ],
      "metadata": {
        "id": "SHhUbXR5lIIJ",
        "colab": {
          "base_uri": "https://localhost:8080/"
        },
        "outputId": "db4a39ac-4c15-4a31-df41-a659e83eec4a"
      },
      "execution_count": null,
      "outputs": [
        {
          "output_type": "stream",
          "name": "stdout",
          "text": [
            "\t\tError Table\n",
            "----------------------------------------------\n",
            "  #\t  t\t Heun's\t  Euler\t    RK4\n",
            "----------------------------------------------\n",
            "  1\t0.10\t0.0005\t 0.0143  0.0001\n",
            "----------------------------------------------\n",
            "  2\t0.20\t0.0025\t 0.0268  0.0014\n",
            "----------------------------------------------\n",
            "  3\t0.30\t0.0043\t 0.0347  0.0024\n",
            "----------------------------------------------\n",
            "  4\t0.40\t0.0046\t 0.0360  0.0018\n",
            "----------------------------------------------\n",
            "  5\t0.50\t0.0039\t 0.0307  0.0001\n",
            "----------------------------------------------\n",
            "  6\t0.60\t0.0032\t 0.0200  0.0015\n",
            "----------------------------------------------\n",
            "  7\t0.70\t0.0036\t 0.0052  0.0018\n",
            "----------------------------------------------\n",
            "  8\t0.80\t0.0052\t 0.0125  0.0009\n",
            "----------------------------------------------\n",
            "  9\t0.90\t0.0063\t 0.0337  0.0001\n",
            "----------------------------------------------\n",
            "  10\t1.00\t0.0064\t 0.0574  0.0001\n",
            "----------------------------------------------\n",
            "\n",
            "\n",
            "\n",
            "\t\tError Table\n",
            "----------------------------------------------\n",
            "  #\t  t\t Heun's\t  Euler\t    RK4\n",
            "----------------------------------------------\n",
            "  1\t0.10\t0.0010\t 0.0058  0.0016\n",
            "----------------------------------------------\n",
            "  2\t0.20\t0.0023\t 0.0133  0.0112\n",
            "----------------------------------------------\n",
            "  3\t0.30\t0.0042\t 0.0239  0.0327\n",
            "----------------------------------------------\n",
            "  4\t0.40\t0.0069\t 0.0392  0.0718\n",
            "----------------------------------------------\n",
            "  5\t0.50\t0.0110\t 0.0615  0.1367\n",
            "----------------------------------------------\n",
            "  6\t0.60\t0.0166\t 0.0943  0.2404\n",
            "----------------------------------------------\n",
            "  7\t0.70\t0.0248\t 0.1422  0.4009\n",
            "----------------------------------------------\n",
            "  8\t0.80\t0.0373\t 0.2112  0.6442\n",
            "----------------------------------------------\n",
            "  9\t0.90\t0.0540\t 0.3126  1.0103\n",
            "----------------------------------------------\n",
            "  10\t1.00\t0.0786\t 0.4584  1.5527\n",
            "----------------------------------------------\n",
            "\n",
            "\n",
            "\n"
          ]
        }
      ]
    }
  ]
}