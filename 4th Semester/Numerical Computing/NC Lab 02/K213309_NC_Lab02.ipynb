{
  "nbformat": 4,
  "nbformat_minor": 0,
  "metadata": {
    "colab": {
      "provenance": []
    },
    "kernelspec": {
      "name": "python3",
      "display_name": "Python 3"
    },
    "language_info": {
      "name": "python"
    }
  },
  "cells": [
    {
      "cell_type": "markdown",
      "source": [
        "**Practice to make a polynmial in numpy.**\n",
        "\n",
        "```\n",
        "import numpy as np\n",
        "x=[1,2,3] \n",
        "np.poly1d(x)\n",
        "```\n",
        "\n"
      ],
      "metadata": {
        "id": "DsaL_J1rcfDU"
      }
    },
    {
      "cell_type": "code",
      "source": [
        "import numpy as np\n",
        "x=[1,1,1] # here 1,2,3 are coefficients of the polynomial in descending order\n",
        "Poly1=np.poly1d(x)\n",
        "print(Poly1)\n",
        "\n",
        "Poly2=np.poly1d(x,True) #another format to print polynomial\n",
        "print(Poly2)"
      ],
      "metadata": {
        "colab": {
          "base_uri": "https://localhost:8080/"
        },
        "id": "85N_yVfdc90P",
        "outputId": "7a5d25e2-1fc2-4ff6-d8ec-2a6d6768cdac"
      },
      "execution_count": null,
      "outputs": [
        {
          "output_type": "stream",
          "name": "stdout",
          "text": [
            "   2\n",
            "1 x + 1 x + 1\n",
            "   3     2\n",
            "1 x - 3 x + 3 x - 1\n"
          ]
        }
      ]
    },
    {
      "cell_type": "markdown",
      "source": [
        "\n",
        "**Code to read data from a CSV file**\n",
        "```\n",
        "import pandas as pd\n",
        "import numpy as np\n",
        "\n",
        "# Read data from CSV file\n",
        "df = pd.read_csv('data.csv')\n",
        "\n",
        "# Convert data to numpy arrays\n",
        "x = df['x values'].values\n",
        "y = df['y values'].values\n",
        "\n",
        "```\n",
        "\n"
      ],
      "metadata": {
        "id": "CqMj-t-AfVhP"
      }
    },
    {
      "cell_type": "markdown",
      "source": [
        "**Function for getting Lagrange Polynmial**\n"
      ],
      "metadata": {
        "id": "SOrIkwv1jwV_"
      }
    },
    {
      "cell_type": "code",
      "source": [
        "\n",
        "\n",
        "x = [0, 20,40,60,80,100]\n",
        "y = [26.0, -48.6, 61.6,-71.2,74.8,-75.2]\n",
        "\n",
        "\n",
        "# Function to calculate Lagrange polynomial\n",
        "def lagrange_poly(x, y):\n",
        "    n = len(x)\n",
        "    p = np.poly1d(0.0)\n",
        "    for i in range(n):\n",
        "        L = np.poly1d(y[i]) \n",
        "        for j in range(n):\n",
        "            if j != i:\n",
        "                L *= np.poly1d([1.0, -x[j]]) / (x[i] - x[j])\n",
        "        p += L\n",
        "    return p\n",
        "\n",
        "# Calculate Lagrange polynomial\n",
        "p = lagrange_poly(x, y)\n",
        "print(p)"
      ],
      "metadata": {
        "colab": {
          "base_uri": "https://localhost:8080/"
        },
        "id": "f0Cto5Pij8D1",
        "outputId": "6b4bf4b4-87e4-40ba-c0fd-15a50c7c25d2"
      },
      "execution_count": null,
      "outputs": [
        {
          "output_type": "stream",
          "name": "stdout",
          "text": [
            "            5            4          3         2\n",
            "-5.329e-06 x + 0.001313 x - 0.1132 x + 3.985 x - 47.81 x + 26\n"
          ]
        }
      ]
    },
    {
      "cell_type": "code",
      "source": [
        "p(35)"
      ],
      "metadata": {
        "colab": {
          "base_uri": "https://localhost:8080/"
        },
        "id": "pHT0bpRMbxG0",
        "outputId": "6142f03c-790f-4419-a8f9-e88c045eff67"
      },
      "execution_count": null,
      "outputs": [
        {
          "output_type": "execute_result",
          "data": {
            "text/plain": [
              "72.08498535156284"
            ]
          },
          "metadata": {},
          "execution_count": 6
        }
      ]
    },
    {
      "cell_type": "code",
      "source": [
        "lagrange_poly([0,1,3], [3,8,9])"
      ],
      "metadata": {
        "colab": {
          "base_uri": "https://localhost:8080/"
        },
        "id": "hY-cA3y5cCZO",
        "outputId": "0d278987-1f2f-4042-fca4-33287cefbddc"
      },
      "execution_count": null,
      "outputs": [
        {
          "output_type": "execute_result",
          "data": {
            "text/plain": [
              "poly1d([-1.5,  6.5,  3. ])"
            ]
          },
          "metadata": {},
          "execution_count": 4
        }
      ]
    },
    {
      "cell_type": "markdown",
      "source": [
        "**For Interpolating at a specific point**"
      ],
      "metadata": {
        "id": "sMMtMumsl3D7"
      }
    },
    {
      "cell_type": "code",
      "source": [
        "# Interpolate at a specific point\n",
        "point = float(input(\"Enter x-coordinate to interpolate: \"))\n",
        "interp_value = p(point)\n",
        "\n",
        "# Print Lagrange polynomial and interpolated value\n",
        "print(\"Lagrange polynomial is:\")\n",
        "print(p)\n",
        "print(\"Interpolated value at x =\", point, \"is:\", interp_value)\n"
      ],
      "metadata": {
        "colab": {
          "base_uri": "https://localhost:8080/"
        },
        "id": "0Pd2IXKXln2Q",
        "outputId": "fa5d2b6f-ab36-494d-bdc9-6201722d9f71"
      },
      "execution_count": null,
      "outputs": [
        {
          "output_type": "stream",
          "name": "stdout",
          "text": [
            "Enter x-coordinate to interpolate: 12\n",
            "Lagrange polynomial is:\n",
            "            5            4          3         2\n",
            "-5.329e-06 x + 0.001313 x - 0.1132 x + 3.985 x - 47.81 x + 26\n",
            "Interpolated value at x = 12.0 is: -143.55093760000003\n"
          ]
        }
      ]
    },
    {
      "cell_type": "markdown",
      "source": [
        "**Plotting of Lagrange Polynomial**"
      ],
      "metadata": {
        "id": "axiqozQwmlr4"
      }
    },
    {
      "cell_type": "code",
      "source": [
        "import matplotlib.pyplot as plt\n",
        "xi=45\n",
        "yi=31.29079589843832\n",
        "p = lagrange_poly(x[0:6], y[0:6])\n",
        "print(p)\n",
        "xp=np.linspace(0,x[5],100)\n",
        "yp=p(xp)\n",
        "\n",
        "plt.plot(xp, yp, label='Lagrange Poly')\n",
        "plt.plot(xi, yi, 'bo', label='Interpolated Point')\n",
        "plt.plot(x[0:6], y[0:6], 'ro', label='Data Points')\n",
        "plt.xlabel('x')\n",
        "plt.ylabel('y')\n",
        "plt.legend()\n",
        "plt.show()"
      ],
      "metadata": {
        "colab": {
          "base_uri": "https://localhost:8080/",
          "height": 314
        },
        "id": "bRWUkHUPm_B1",
        "outputId": "9e238fe7-ff9c-4882-cddc-de9daedb1397"
      },
      "execution_count": null,
      "outputs": [
        {
          "output_type": "stream",
          "name": "stdout",
          "text": [
            "            5            4          3         2\n",
            "-5.329e-06 x + 0.001313 x - 0.1132 x + 3.985 x - 47.81 x + 26\n"
          ]
        },
        {
          "output_type": "display_data",
          "data": {
            "text/plain": [
              "<Figure size 432x288 with 1 Axes>"
            ],
            "image/png": "[encoded data removed]"
          },
          "metadata": {
            "needs_background": "light"
          }
        }
      ]
    },
    {
      "cell_type": "code",
      "source": [
        "fig = plt.figure(figsize = (10,8))\n",
        "x = [0, 20,40,60, 80, 100]\n",
        "y = [26.0, -48.6, 61.6,-71.2, 74.8, -75.2]\n",
        "n=5\n",
        "for i in range(1,n+1,1):\n",
        "  p = lagrange_poly(x[0:i+1], y[0:i+1])\n",
        "  xp=np.linspace(0,x[i],100)\n",
        "  yp=p(xp)\n",
        "  plt.plot(xp, yp, label = f\"L{i}\")\n",
        "plt.plot(x,y,'ro',label=\"Data Points\")\n",
        "plt.plot(xi,yi,'bo',label=\"Interpolated Points\")\n",
        "plt.xlabel('x')\n",
        "plt.ylabel('y')\n",
        "plt.legend()\n",
        "plt.grid()\n",
        "plt.show()"
      ],
      "metadata": {
        "colab": {
          "base_uri": "https://localhost:8080/",
          "height": 497
        },
        "id": "LRBQ2xv2qOOJ",
        "outputId": "72f95226-3031-47f1-d406-7391a47beff5"
      },
      "execution_count": null,
      "outputs": [
        {
          "output_type": "display_data",
          "data": {
            "text/plain": [
              "<Figure size 720x576 with 1 Axes>"
            ],
            "image/png": "[encoded data removed]"
          },
          "metadata": {
            "needs_background": "light"
          }
        }
      ]
    },
    {
      "cell_type": "markdown",
      "source": [
        "**Scipy Implimentation of Lagrange Polynomial**"
      ],
      "metadata": {
        "id": "TxUbywZJmiKW"
      }
    },
    {
      "cell_type": "code",
      "source": [
        "import numpy as np\n",
        "import matplotlib.pyplot as plt\n",
        "from scipy.interpolate import lagrange\n",
        "\n",
        "# Define the data points\n",
        "x = np.array([0, 20, 40, 60, 80, 100])\n",
        "y = np.array([26.0, -48.6, 61.6, -71.2, 74.8, -75.2])\n",
        "\n",
        "# Define the Lagrange Polynomial\n",
        "f = lagrange(x, y)\n",
        "\n",
        "# Find P(50) by evaluating the polynomial at x=50\n",
        "p_45 = f(45)\n",
        "print(\"P(45) =\", p_45)\n",
        "\n",
        "# Print the polynomial coefficients\n",
        "print(\"Lagrange Polynomial:\", np.poly1d(f).coefficients)\n",
        "\n",
        "# Plot the Lagrange Polynomial and the data points\n",
        "x_new = np.linspace(0, 100, 100)\n",
        "fig = plt.figure(figsize = (10,8))\n",
        "plt.plot(x_new, f(x_new), 'b', x, y, 'ro')\n",
        "plt.plot(45, p_45, 'go', markersize=10)\n",
        "plt.title('Lagrange Polynomial')\n",
        "plt.grid()\n",
        "plt.xlabel('x')\n",
        "plt.ylabel('y')\n",
        "plt.show()\n"
      ],
      "metadata": {
        "colab": {
          "base_uri": "https://localhost:8080/",
          "height": 565
        },
        "id": "e5DHro3Mo_V5",
        "outputId": "f80a81ed-2543-48f7-f8be-bb6f2e7900a0"
      },
      "execution_count": null,
      "outputs": [
        {
          "output_type": "stream",
          "name": "stdout",
          "text": [
            "P(45) = 31.29079589843832\n",
            "Lagrange Polynomial: [-5.32864583e-06  1.31302083e-03 -1.13188542e-01  3.98529167e+00\n",
            " -4.78120000e+01  2.60000000e+01]\n"
          ]
        },
        {
          "output_type": "display_data",
          "data": {
            "text/plain": [
              "<Figure size 720x576 with 1 Axes>"
            ],
            "image/png": "[encoded data removed]"
          },
          "metadata": {
            "needs_background": "light"
          }
        }
      ]
    },
    {
      "cell_type": "markdown",
      "source": [
        "**Code for Newton divided difference Method**"
      ],
      "metadata": {
        "id": "Mjz53MFGqNtn"
      }
    },
    {
      "cell_type": "code",
      "source": [
        "import numpy as np\n",
        "def divided_difference_table(x, y):\n",
        "    n = len(x)\n",
        "    F = [[0] * n for i in range(n)]\n",
        "    for i in range(n):\n",
        "        F[i][0] = y[i]\n",
        "    for j in range(1, n):\n",
        "        for i in range(j, n):\n",
        "            F[i][j] = (F[i][j-1] - F[i-1][j-1]) / (x[i] - x[i-j])\n",
        "    return F\n",
        "def newton_div_dif_poly(x,y,xi):\n",
        "   F=divided_difference_table(x,y) # Saving divided difference in a variable F\n",
        "   n=len(x)\n",
        "   prod=np.poly1d(1)\n",
        "   N=np.poly1d(F[0][0])\n",
        "   for i in range(1,n):\n",
        "     prod=np.poly1d(x[0:i],True)\n",
        "     N+=np.poly1d(F[i][i]*(prod.c))\n",
        "     \n",
        "   print(N)\n",
        "   print(N(xi))\n",
        "   return \n",
        "\n",
        "x = [0, 20,40,60, 80, 100]\n",
        "y = [26.0, -48.6, 61.6, -71.2, 74.8, -75.2]\n",
        "newton_div_dif_poly(x, y, 45)"
      ],
      "metadata": {
        "id": "ATxPxZR_H6Pp",
        "colab": {
          "base_uri": "https://localhost:8080/"
        },
        "outputId": "83cb75cf-1698-4ed7-d427-2e82e3c57580"
      },
      "execution_count": null,
      "outputs": [
        {
          "output_type": "stream",
          "name": "stdout",
          "text": [
            "            5            4          3         2\n",
            "-5.329e-06 x + 0.001313 x - 0.1132 x + 3.985 x - 47.81 x + 26\n",
            "31.29079589843672\n"
          ]
        }
      ]
    },
    {
      "cell_type": "code",
      "source": [
        "divided_difference_table([1,2,3], [2,3,6])"
      ],
      "metadata": {
        "id": "SvMluF1Htcpn",
        "colab": {
          "base_uri": "https://localhost:8080/"
        },
        "outputId": "a897e6fb-993c-4be0-efea-b3ce1529be06"
      },
      "execution_count": null,
      "outputs": [
        {
          "output_type": "execute_result",
          "data": {
            "text/plain": [
              "[[2, 0, 0], [3, 1.0, 0], [6, 3.0, 1.0]]"
            ]
          },
          "metadata": {},
          "execution_count": 26
        }
      ]
    },
    {
      "cell_type": "markdown",
      "source": [
        "# LAB Tasks\n",
        "\n",
        "*  Find the Lagrange Polynomial for x=[-1,2,3,4,6] and y=[4,5,7,9,13] and interpolate y at x=5 \n",
        "*   Graph the task 1 (Lagrange polynomial, Data points, interpolated point)\n",
        "*   Construct the Newton Divided Difference Table for the data in task 1\n",
        "*   Solve the task 1 for Newton's Divided Difference method\n",
        "*   Write the code for Newton Forward difference method (in terms of s) (Hint: code is quite similar to code of divided differece method)\n",
        "*   Run the code of above task on x=[-1.5,-1,-0.5,0,1] and y=[2,6,10.1,13.2,12.2] and xi=-1.2\n",
        "*   Write the code for Newton Backward difference method\n",
        "*   Run the code of above task on x=[-1.5,-1,-0.5,0,1] and y=[2,6,10.1,13.2,12.2] and xi=0.7\n",
        "\n",
        "\n",
        "\n",
        "\n",
        "\n",
        "\n",
        "\n",
        "\n",
        "\n"
      ],
      "metadata": {
        "id": "FkdBO8NraJyr"
      }
    },
    {
      "cell_type": "code",
      "source": [
        "import numpy as np\n",
        "from scipy.interpolate import lagrange\n",
        "import matplotlib.pyplot as plt\n",
        "import math\n",
        "\n",
        "#Task1\n",
        "print(\"\\n\\t\\t\\t\\tTASK 1\\n\\n\")\n",
        "x = np.array([-1,2,3,4,6])\n",
        "y = np.array([4,5,7,9,13])\n",
        "f = lagrange(x, y)\n",
        "p = f(5)\n",
        "print(\"P(5) =\", p)\n",
        "print(\"Lagrange Polynomial:\\n\", np.poly1d(f))"
      ],
      "metadata": {
        "colab": {
          "base_uri": "https://localhost:8080/"
        },
        "id": "FGw01IC9aLty",
        "outputId": "1314ab26-af95-456d-d0c2-c5f8ce3d2640"
      },
      "execution_count": null,
      "outputs": [
        {
          "output_type": "stream",
          "name": "stdout",
          "text": [
            "\n",
            "\t\t\t\tTASK 1\n",
            "\n",
            "\n",
            "P(5) = 10.928571428571555\n",
            "Lagrange Polynomial:\n",
            "         4          3          2\n",
            "0.0119 x - 0.1786 x + 0.9524 x - 0.1429 x + 2.714\n"
          ]
        }
      ]
    },
    {
      "cell_type": "code",
      "source": [
        "import numpy as np\n",
        "from scipy.interpolate import lagrange\n",
        "import matplotlib.pyplot as plt\n",
        "import math\n",
        "\n",
        "#Task2\n",
        "print(\"\\n\\t\\t\\t\\tTASK 2\\n\\n\")\n",
        "x_new = np.linspace(-1, 6, 100)\n",
        "fig = plt.figure(figsize = (10,8))\n",
        "plt.plot(x_new, f(x_new), 'b', label = 'Lagrange Polynomial')\n",
        "plt.plot(x, y, 'ro', label = 'Data Points')\n",
        "plt.plot(5, p, 'go', markersize=10, label = 'Interpolated Point')\n",
        "plt.title('Lagrange Polynomial')\n",
        "plt.grid()\n",
        "plt.xlabel('x')\n",
        "plt.ylabel('y')\n",
        "plt.legend()\n",
        "plt.show()"
      ],
      "metadata": {
        "colab": {
          "base_uri": "https://localhost:8080/",
          "height": 582
        },
        "id": "m09lLNn3axY8",
        "outputId": "6bdcb876-d914-4918-b5ce-67989e08fcb7"
      },
      "execution_count": null,
      "outputs": [
        {
          "output_type": "stream",
          "name": "stdout",
          "text": [
            "\n",
            "\t\t\t\tTASK 2\n",
            "\n",
            "\n"
          ]
        },
        {
          "output_type": "display_data",
          "data": {
            "text/plain": [
              "<Figure size 720x576 with 1 Axes>"
            ],
            "image/png": "[encoded data removed]"
          },
          "metadata": {
            "needs_background": "light"
          }
        }
      ]
    },
    {
      "cell_type": "code",
      "source": [
        "import numpy as np\n",
        "from scipy.interpolate import lagrange\n",
        "import matplotlib.pyplot as plt\n",
        "import math\n",
        "\n",
        "#Task3\n",
        "print(\"\\n\\t\\t\\t\\tTASK 3\\n\\n\")\n",
        "def divided_difference_table(x, y):\n",
        "    n = len(x)\n",
        "    F = [[0] * n for i in range(n)]\n",
        "    for i in range(n):\n",
        "        F[i][0] = y[i]\n",
        "    for j in range(1, n):\n",
        "        for i in range(j, n):\n",
        "            F[i][j] = (F[i][j-1] - F[i-1][j-1]) / (x[i] - x[i-j])\n",
        "    return F\n",
        "print(divided_difference_table(x, y))"
      ],
      "metadata": {
        "colab": {
          "base_uri": "https://localhost:8080/"
        },
        "id": "iTyckPama012",
        "outputId": "d994000b-28fd-47ed-e092-3fd3b83dd27e"
      },
      "execution_count": null,
      "outputs": [
        {
          "output_type": "stream",
          "name": "stdout",
          "text": [
            "\n",
            "\t\t\t\tTASK 3\n",
            "\n",
            "\n",
            "[[4, 0, 0, 0, 0], [5, 0.3333333333333333, 0, 0, 0], [7, 2.0, 0.4166666666666667, 0, 0], [9, 2.0, 0.0, -0.08333333333333334, 0], [13, 2.0, 0.0, 0.0, 0.011904761904761906]]\n"
          ]
        }
      ]
    },
    {
      "cell_type": "code",
      "source": [
        "import numpy as np\n",
        "from scipy.interpolate import lagrange\n",
        "import matplotlib.pyplot as plt\n",
        "import math\n",
        "\n",
        "#Task4\n",
        "print(\"\\n\\t\\t\\t\\tTASK 4\\n\\n\")\n",
        "def newton_div_dif_poly(x,y,xi):\n",
        "   F=divided_difference_table(x,y)\n",
        "   n=len(x)\n",
        "   prod=np.poly1d(1)\n",
        "   N=np.poly1d(F[0][0])\n",
        "   for i in range(1,n):\n",
        "     prod=np.poly1d(x[0:i],True)\n",
        "     N+=np.poly1d(F[i][i]*(prod.c))\n",
        "     \n",
        "   print(\"Polynomial:\\n\",N)\n",
        "   print(\"Interpolated Value at x =\",xi,\":\",N(xi))\n",
        "   return \n",
        "newton_div_dif_poly(x, y, 5)"
      ],
      "metadata": {
        "colab": {
          "base_uri": "https://localhost:8080/"
        },
        "id": "Noyy-L_qa2i6",
        "outputId": "20c23da6-52f5-4189-c8e7-c30f0dab5754"
      },
      "execution_count": null,
      "outputs": [
        {
          "output_type": "stream",
          "name": "stdout",
          "text": [
            "\n",
            "\t\t\t\tTASK 4\n",
            "\n",
            "\n",
            "Polynomial:\n",
            "         4          3          2\n",
            "0.0119 x - 0.1786 x + 0.9524 x - 0.1429 x + 2.714\n",
            "Interpolated Value at x = 5 : 10.928571428571427\n"
          ]
        }
      ]
    },
    {
      "cell_type": "code",
      "source": [
        "import numpy as np\n",
        "from scipy.interpolate import lagrange\n",
        "import matplotlib.pyplot as plt\n",
        "import math\n",
        "\n",
        "#Task5\n",
        "print(\"\\n\\t\\t\\t\\tTASK 5\\n\\n\")\n",
        "def forward_difference_table(x, y):\n",
        "    n = len(x)\n",
        "    F = [[0] * n for i in range(n)]\n",
        "    for i in range(n):\n",
        "        F[i][0] = y[i]\n",
        "    for j in range(1, n):\n",
        "        for i in range(j, n):\n",
        "            F[i][j] = (F[i][j-1] - F[i-1][j-1])\n",
        "    return F\n",
        "def forward_dif_poly(x,y,xi):\n",
        "   F=forward_difference_table(x,y)\n",
        "   n=len(x)\n",
        "   h = x[1] - x[0]\n",
        "   s = []\n",
        "   for i in range(0,n):\n",
        "     s.append(i)\n",
        "   N=np.poly1d(F[0][0])\n",
        "   for i in range(1,n):\n",
        "     factor = np.poly1d(s[0:i],True)\n",
        "     N+=np.poly1d(F[i][i]*(factor.c)/math.factorial(i))\n",
        "     \n",
        "   print(\"Polynomial:\\n\",N)\n",
        "   print(\"Where x represents \\\"s\\\" which is (x-x0)/h\")\n",
        "   print(\"Interpolated Value at x =\",xi,\":\",N((xi-x[0])/h))\n",
        "   return\n",
        "print(\"No output shown here as only code lies in this segment. The output is shown in the next section.\")"
      ],
      "metadata": {
        "colab": {
          "base_uri": "https://localhost:8080/"
        },
        "id": "J0iQM4JPb6JE",
        "outputId": "0eb97da1-e9f9-47e1-b556-587761bcc2d2"
      },
      "execution_count": null,
      "outputs": [
        {
          "output_type": "stream",
          "name": "stdout",
          "text": [
            "\n",
            "\t\t\t\tTASK 5\n",
            "\n",
            "\n",
            "No output shown here as only code lies in this segment. The output is shown in the next section.\n"
          ]
        }
      ]
    },
    {
      "cell_type": "code",
      "source": [
        "import numpy as np\n",
        "from scipy.interpolate import lagrange\n",
        "import matplotlib.pyplot as plt\n",
        "import math\n",
        "\n",
        "#Task6\n",
        "print(\"\\n\\t\\t\\t\\tTASK 6\\n\\n\")\n",
        "x = np.array([-1.5,-1,-0.5,0,0.5])\n",
        "y = np.array([2,6,10.1,13.2,12.2])\n",
        "forward_dif_poly(x,y,-1.2)"
      ],
      "metadata": {
        "colab": {
          "base_uri": "https://localhost:8080/"
        },
        "id": "sWw0nZ3wcs5s",
        "outputId": "62b937ca-c3f8-4796-d39b-85f6e0d98428"
      },
      "execution_count": null,
      "outputs": [
        {
          "output_type": "stream",
          "name": "stdout",
          "text": [
            "\n",
            "\t\t\t\tTASK 6\n",
            "\n",
            "\n",
            "Polynomial:\n",
            "           4          3          2\n",
            "-0.08333 x + 0.3167 x - 0.3167 x + 4.083 x + 2\n",
            "Where x represents \"s\" which is (x-x0)/h\n",
            "Interpolated Value at x = -1.2 : 4.393600000000001\n"
          ]
        }
      ]
    },
    {
      "cell_type": "code",
      "source": [
        "import numpy as np\n",
        "from scipy.interpolate import lagrange\n",
        "import matplotlib.pyplot as plt\n",
        "import math\n",
        "\n",
        "#Task7\n",
        "print(\"\\n\\t\\t\\t\\tTASK 7\\n\\n\")\n",
        "def backward_difference_table(x, y):\n",
        "    n = len(x)\n",
        "    F = [[0] * n for i in range(n)]\n",
        "    for i in range(n):\n",
        "        F[i][0] = y[i]\n",
        "    for j in range(1, n):\n",
        "        for i in range(j, n):\n",
        "            F[i][j] = (F[i][j-1] - F[i-1][j-1])\n",
        "    return F\n",
        "def backward_dif_poly(x,y,xi):\n",
        "   F=backward_difference_table(x,y)\n",
        "   n=len(x)\n",
        "   h = x[1] - x[0]\n",
        "   s = []\n",
        "   for i in range(0,n):\n",
        "     s.append(-i)\n",
        "   N=np.poly1d(F[n-1][0])\n",
        "   for i in range(1,n):\n",
        "     factor = np.poly1d(s[0:i],True)\n",
        "     N+=np.poly1d(F[n-1][i]*(factor.c)/math.factorial(i))\n",
        "     \n",
        "   print(\"Polynomial:\\n\",N)\n",
        "   print(\"Where x represents \\\"s\\\" which is (x-xn)/h\")\n",
        "   print(\"Interpolated Value at x =\",xi,\":\",N((xi-x[n-1])/h))\n",
        "   return\n",
        "print(\"No output shown here as only code lies in this segment. The output is shown in the next section.\")"
      ],
      "metadata": {
        "colab": {
          "base_uri": "https://localhost:8080/"
        },
        "id": "L77GvxWqdQXv",
        "outputId": "a1dea4fd-52e9-4b2b-dedf-a611bdcbb011"
      },
      "execution_count": null,
      "outputs": [
        {
          "output_type": "stream",
          "name": "stdout",
          "text": [
            "\n",
            "\t\t\t\tTASK 7\n",
            "\n",
            "\n",
            "No output shown here as only code lies in this segment. The output is shown in the next section.\n"
          ]
        }
      ]
    },
    {
      "cell_type": "code",
      "source": [
        "import numpy as np\n",
        "from scipy.interpolate import lagrange\n",
        "import matplotlib.pyplot as plt\n",
        "import math\n",
        "\n",
        "#Task8\n",
        "print(\"\\n\\t\\t\\t\\tTASK 8\\n\\n\")\n",
        "x = np.array([-1.5,-1,-0.5,0,0.5])\n",
        "y = np.array([2,6,10.1,13.2,12.2])\n",
        "backward_dif_poly(x,y,0.7)"
      ],
      "metadata": {
        "colab": {
          "base_uri": "https://localhost:8080/"
        },
        "id": "bazQxLJvfs-v",
        "outputId": "6b9f3d1d-5c18-4b21-a5af-970f8ed7ff36"
      },
      "execution_count": null,
      "outputs": [
        {
          "output_type": "stream",
          "name": "stdout",
          "text": [
            "\n",
            "\t\t\t\tTASK 8\n",
            "\n",
            "\n",
            "Polynomial:\n",
            "           4         3         2\n",
            "-0.08333 x - 1.017 x - 4.517 x - 4.583 x + 12.2\n",
            "Where x represents \"s\" which is (x-xn)/h\n",
            "Interpolated Value at x = 0.7 : 9.5768\n"
          ]
        }
      ]
    },
    {
      "cell_type": "code",
      "source": [],
      "metadata": {
        "id": "Z-2dLBbkHDoy"
      },
      "execution_count": null,
      "outputs": []
    }
  ]
}